{
 "cells": [
  {
   "cell_type": "code",
   "execution_count": null,
   "metadata": {},
   "outputs": [],
   "source": [
    "import pandas as pd\n",
    "import numpy as np"
   ]
  },
  {
   "cell_type": "code",
   "execution_count": null,
   "metadata": {},
   "outputs": [],
   "source": [
    "estados = pd.read_csv('./brasil_estados.csv')\n",
    "estados"
   ]
  },
  {
   "cell_type": "code",
   "execution_count": null,
   "metadata": {},
   "outputs": [],
   "source": [
    "estados.groupby('regiao_nome')['area'].mean().reset_index()"
   ]
  },
  {
   "cell_type": "code",
   "execution_count": null,
   "metadata": {},
   "outputs": [],
   "source": [
    "area_proporcional = estados[['regiao_nome', 'uf', 'area']].merge(\n",
    "    estados.groupby('regiao_nome')['area'].sum().reset_index(), on = 'regiao_nome', how = 'left'\n",
    ")\n",
    "area_proporcional"
   ]
  },
  {
   "cell_type": "code",
   "execution_count": null,
   "metadata": {},
   "outputs": [],
   "source": [
    "area_rank = estados.groupby(['uf'])['area'].sum().rank().reset_index().sort_values(by='area', ascending=False)\n",
    "area_rank"
   ]
  },
  {
   "cell_type": "code",
   "execution_count": null,
   "metadata": {},
   "outputs": [],
   "source": [
    "area_rank = estados.groupby(['regiao_nome', 'uf'])['area'].sum().reset_index()\n",
    "area_rank['rank_area_regiao'] = area_rank.groupby('regiao_nome')['area'].rank(method='first')\n",
    "area_rank"
   ]
  },
  {
   "cell_type": "code",
   "execution_count": null,
   "metadata": {},
   "outputs": [],
   "source": [
    "media = estados['area'].mean()\n",
    "estados['classe_area'] = estados['area'].apply(\n",
    "    lambda x : 'Acima' if x > media else 'Abaixo'\n",
    ")\n",
    "estados"
   ]
  },
  {
   "cell_type": "code",
   "execution_count": null,
   "metadata": {},
   "outputs": [],
   "source": [
    "estados.pivot_table(\n",
    "    index = 'regiao_nome',\n",
    "    columns = 'classe_area',\n",
    "    values = 'area', \n",
    "    aggfunc = ['sum', 'mean', 'count'],\n",
    "    fill_value = 0\n",
    ").reset_index()"
   ]
  },
  {
   "cell_type": "code",
   "execution_count": null,
   "metadata": {},
   "outputs": [],
   "source": [
    "soma = estados['area'].sum()\n",
    "maiores_estados = estados[['uf', 'area']].sort_values(by='area', ascending=False)\n",
    "maiores_estados['percentual'] = round(maiores_estados['area'] / soma * 100, 2)\n",
    "maiores_estados['acumulado'] = maiores_estados['percentual'].cumsum()\n",
    "maiores_estados['curva_abc'] = maiores_estados['acumulado'].apply(\n",
    "    lambda x : 'A' if x <= 65 else ('B' if x <= 90 else 'C')\n",
    ")\n",
    "maiores_estados['legenda'] = maiores_estados.apply(\n",
    "    lambda x : x['uf'] if x['curva_abc'] != 'C' else 'Outros', axis = 1\n",
    ")\n",
    "maiores_estados"
   ]
  },
  {
   "cell_type": "code",
   "execution_count": null,
   "metadata": {},
   "outputs": [],
   "source": [
    "maiores_areas = estados[['uf', 'area']].sort_values(by='area', ascending=False)\n",
    "maiores_areas['anterior'] = maiores_areas['area'].shift(1)\n",
    "maiores_areas['diferenca'] = maiores_areas['area'].shift(1) - maiores_areas['area']\n",
    "maiores_areas['percentual'] = maiores_areas['area'].pct_change(periods=1)\n",
    "maiores_areas"
   ]
  },
  {
   "cell_type": "code",
   "execution_count": 43,
   "metadata": {},
   "outputs": [
    {
     "data": {
      "text/html": [
       "<div>\n",
       "<style scoped>\n",
       "    .dataframe tbody tr th:only-of-type {\n",
       "        vertical-align: middle;\n",
       "    }\n",
       "\n",
       "    .dataframe tbody tr th {\n",
       "        vertical-align: top;\n",
       "    }\n",
       "\n",
       "    .dataframe thead th {\n",
       "        text-align: right;\n",
       "    }\n",
       "</style>\n",
       "<table border=\"1\" class=\"dataframe\">\n",
       "  <thead>\n",
       "    <tr style=\"text-align: right;\">\n",
       "      <th></th>\n",
       "      <th>area</th>\n",
       "      <th>populacao</th>\n",
       "      <th>matricula</th>\n",
       "      <th>idh</th>\n",
       "      <th>receitas</th>\n",
       "      <th>despesas</th>\n",
       "      <th>rendimento</th>\n",
       "      <th>veiculos</th>\n",
       "    </tr>\n",
       "  </thead>\n",
       "  <tbody>\n",
       "    <tr>\n",
       "      <th>area</th>\n",
       "      <td>1.000000</td>\n",
       "      <td>0.045726</td>\n",
       "      <td>0.103052</td>\n",
       "      <td>-0.210447</td>\n",
       "      <td>0.009131</td>\n",
       "      <td>0.012493</td>\n",
       "      <td>-0.242461</td>\n",
       "      <td>-0.022114</td>\n",
       "    </tr>\n",
       "    <tr>\n",
       "      <th>populacao</th>\n",
       "      <td>0.045726</td>\n",
       "      <td>1.000000</td>\n",
       "      <td>0.994712</td>\n",
       "      <td>0.368471</td>\n",
       "      <td>0.983539</td>\n",
       "      <td>0.981515</td>\n",
       "      <td>0.365265</td>\n",
       "      <td>0.967715</td>\n",
       "    </tr>\n",
       "    <tr>\n",
       "      <th>matricula</th>\n",
       "      <td>0.103052</td>\n",
       "      <td>0.994712</td>\n",
       "      <td>1.000000</td>\n",
       "      <td>0.304599</td>\n",
       "      <td>0.963954</td>\n",
       "      <td>0.962989</td>\n",
       "      <td>0.307704</td>\n",
       "      <td>0.944988</td>\n",
       "    </tr>\n",
       "    <tr>\n",
       "      <th>idh</th>\n",
       "      <td>-0.210447</td>\n",
       "      <td>0.368471</td>\n",
       "      <td>0.304599</td>\n",
       "      <td>1.000000</td>\n",
       "      <td>0.478499</td>\n",
       "      <td>0.454881</td>\n",
       "      <td>0.947880</td>\n",
       "      <td>0.483255</td>\n",
       "    </tr>\n",
       "    <tr>\n",
       "      <th>receitas</th>\n",
       "      <td>0.009131</td>\n",
       "      <td>0.983539</td>\n",
       "      <td>0.963954</td>\n",
       "      <td>0.478499</td>\n",
       "      <td>1.000000</td>\n",
       "      <td>0.997481</td>\n",
       "      <td>0.468843</td>\n",
       "      <td>0.991868</td>\n",
       "    </tr>\n",
       "    <tr>\n",
       "      <th>despesas</th>\n",
       "      <td>0.012493</td>\n",
       "      <td>0.981515</td>\n",
       "      <td>0.962989</td>\n",
       "      <td>0.454881</td>\n",
       "      <td>0.997481</td>\n",
       "      <td>1.000000</td>\n",
       "      <td>0.448210</td>\n",
       "      <td>0.991337</td>\n",
       "    </tr>\n",
       "    <tr>\n",
       "      <th>rendimento</th>\n",
       "      <td>-0.242461</td>\n",
       "      <td>0.365265</td>\n",
       "      <td>0.307704</td>\n",
       "      <td>0.947880</td>\n",
       "      <td>0.468843</td>\n",
       "      <td>0.448210</td>\n",
       "      <td>1.000000</td>\n",
       "      <td>0.460790</td>\n",
       "    </tr>\n",
       "    <tr>\n",
       "      <th>veiculos</th>\n",
       "      <td>-0.022114</td>\n",
       "      <td>0.967715</td>\n",
       "      <td>0.944988</td>\n",
       "      <td>0.483255</td>\n",
       "      <td>0.991868</td>\n",
       "      <td>0.991337</td>\n",
       "      <td>0.460790</td>\n",
       "      <td>1.000000</td>\n",
       "    </tr>\n",
       "  </tbody>\n",
       "</table>\n",
       "</div>"
      ],
      "text/plain": [
       "                area  populacao  matricula       idh  receitas  despesas  \\\n",
       "area        1.000000   0.045726   0.103052 -0.210447  0.009131  0.012493   \n",
       "populacao   0.045726   1.000000   0.994712  0.368471  0.983539  0.981515   \n",
       "matricula   0.103052   0.994712   1.000000  0.304599  0.963954  0.962989   \n",
       "idh        -0.210447   0.368471   0.304599  1.000000  0.478499  0.454881   \n",
       "receitas    0.009131   0.983539   0.963954  0.478499  1.000000  0.997481   \n",
       "despesas    0.012493   0.981515   0.962989  0.454881  0.997481  1.000000   \n",
       "rendimento -0.242461   0.365265   0.307704  0.947880  0.468843  0.448210   \n",
       "veiculos   -0.022114   0.967715   0.944988  0.483255  0.991868  0.991337   \n",
       "\n",
       "            rendimento  veiculos  \n",
       "area         -0.242461 -0.022114  \n",
       "populacao     0.365265  0.967715  \n",
       "matricula     0.307704  0.944988  \n",
       "idh           0.947880  0.483255  \n",
       "receitas      0.468843  0.991868  \n",
       "despesas      0.448210  0.991337  \n",
       "rendimento    1.000000  0.460790  \n",
       "veiculos      0.460790  1.000000  "
      ]
     },
     "execution_count": 43,
     "metadata": {},
     "output_type": "execute_result"
    }
   ],
   "source": [
    "estados[[\n",
    " 'area',\n",
    " 'populacao',\n",
    " 'matricula',\n",
    " 'idh',\n",
    " 'receitas',\n",
    " 'despesas',\n",
    " 'rendimento', \n",
    " 'veiculos'\n",
    "]].corr()"
   ]
  },
  {
   "cell_type": "code",
   "execution_count": 45,
   "metadata": {},
   "outputs": [
    {
     "data": {
      "text/plain": [
       "<Axes: xlabel='matricula', ylabel='populacao'>"
      ]
     },
     "execution_count": 45,
     "metadata": {},
     "output_type": "execute_result"
    },
    {
     "data": {
      "image/png": "[encoded data removed]",
      "text/plain": [
       "<Figure size 640x480 with 1 Axes>"
      ]
     },
     "metadata": {},
     "output_type": "display_data"
    }
   ],
   "source": [
    "import seaborn as sns\n",
    "sns.regplot(data = estados, x = 'matricula', y = 'populacao')"
   ]
  }
 ],
 "metadata": {
  "kernelspec": {
   "display_name": "Python 3",
   "language": "python",
   "name": "python3"
  },
  "language_info": {
   "codemirror_mode": {
    "name": "ipython",
    "version": 3
   },
   "file_extension": ".py",
   "mimetype": "text/x-python",
   "name": "python",
   "nbconvert_exporter": "python",
   "pygments_lexer": "ipython3",
   "version": "3.8.16"
  },
  "orig_nbformat": 4
 },
 "nbformat": 4,
 "nbformat_minor": 2
}
